{
 "cells": [
  {
   "cell_type": "code",
   "execution_count": 6,
   "metadata": {},
   "outputs": [],
   "source": [
    "import numpy as np\n",
    "import pandas as pd\n",
    "import os\n",
    "import seaborn as sns\n",
    "import matplotlib.pyplot as plt\n",
    "import eli5\n",
    "\n",
    "%matplotlib inline\n",
    "\n",
    "from pandas.plotting import scatter_matrix\n",
    "\n",
    "from sklearn.model_selection import train_test_split, cross_val_score, GridSearchCV\n",
    "from sklearn.tree import DecisionTreeRegressor\n",
    "from sklearn.ensemble import RandomForestRegressor\n",
    "from sklearn.linear_model import LinearRegression, Lasso\n",
    "from sklearn.metrics import mean_absolute_error, mean_squared_error\n",
    "from sklearn.feature_selection import SelectKBest, mutual_info_regression\n",
    "# f_regression\n",
    "#from sklearn.svm import LinearSVR\n",
    "\n",
    "from eli5.sklearn import PermutationImportance\n"
   ]
  },
  {
   "cell_type": "markdown",
   "metadata": {},
   "source": [
    "### Supporting Functions"
   ]
  },
  {
   "cell_type": "code",
   "execution_count": 7,
   "metadata": {},
   "outputs": [],
   "source": [
    "def get_mse_score(model, X, y, cv=10): # 10-fold cross-validation\n",
    "    \"\"\"\n",
    "    Fit supplied model using X and y using K-fold cross validation. Default K-fold value is 10\n",
    "    \"\"\"\n",
    "    scores = cross_val_score(model, X, y, scoring=\"neg_mean_squared_error\", cv=cv) \n",
    "    rmse_score = np.sqrt(-scores)\n",
    "    #print(\"Scores: \", rmse_score)\n",
    "    print(\"MSE - Mean: \", rmse_score.mean(),\" - Standard deviation: \", rmse_score. std())\n",
    "    return rmse_score\n",
    "    \n",
    "    \n",
    "def get_R2_score(X_train, X_valid, y_train, y_valid):\n",
    "    \"\"\"\n",
    "    Fit linear regression model using training data and print R^2 for both training and validation data supplied\n",
    "    \"\"\"\n",
    "    model = LinearRegression()\n",
    "    model.fit(X_train, y_train)\n",
    "    print(\"R^2 for training data: \", model.score(X_train, y_train))\n",
    "    print(\"R^2 for validation data: \", model.score(X_valid, y_valid))    \n",
    "    \n",
    "    \n",
    "    \n",
    "def get_mse_score_tv(model, X_train, X_valid, y_train, y_valid):\n",
    "    \"\"\"\n",
    "    Fit supplied model using training data and print mean_squared_error score for both training and validation data supplied\n",
    "    \"\"\"\n",
    "    model.fit(X_train, y_train)\n",
    "    y_train_predict = model.predict(X_train)\n",
    "    y_valid_predict = model.predict(X_valid)\n",
    "    print(\"MSE for training data: \", mean_squared_error(y_train, y_train_predict))\n",
    "    print(\"MSE for validation data: \", mean_squared_error(y_valid, y_valid_predict))  "
   ]
  },
  {
   "cell_type": "markdown",
   "metadata": {},
   "source": [
    "# 1. Load Data"
   ]
  },
  {
   "cell_type": "code",
   "execution_count": 8,
   "metadata": {},
   "outputs": [],
   "source": [
    "data_path = os.path.join(\"data\\\\raw\\\\MtCars.csv\")\n",
    "data_all = pd.read_csv(data_path)"
   ]
  },
  {
   "cell_type": "markdown",
   "metadata": {},
   "source": [
    "# 2. Data Structure"
   ]
  },
  {
   "cell_type": "code",
   "execution_count": 9,
   "metadata": {},
   "outputs": [
    {
     "data": {
      "text/html": [
       "<div>\n",
       "<style scoped>\n",
       "    .dataframe tbody tr th:only-of-type {\n",
       "        vertical-align: middle;\n",
       "    }\n",
       "\n",
       "    .dataframe tbody tr th {\n",
       "        vertical-align: top;\n",
       "    }\n",
       "\n",
       "    .dataframe thead th {\n",
       "        text-align: right;\n",
       "    }\n",
       "</style>\n",
       "<table border=\"1\" class=\"dataframe\">\n",
       "  <thead>\n",
       "    <tr style=\"text-align: right;\">\n",
       "      <th></th>\n",
       "      <th>car</th>\n",
       "      <th>mpg</th>\n",
       "      <th>cyl</th>\n",
       "      <th>disp</th>\n",
       "      <th>hp</th>\n",
       "      <th>drat</th>\n",
       "      <th>wt</th>\n",
       "      <th>qsec</th>\n",
       "      <th>vs</th>\n",
       "      <th>am</th>\n",
       "      <th>gear</th>\n",
       "      <th>carb</th>\n",
       "    </tr>\n",
       "  </thead>\n",
       "  <tbody>\n",
       "    <tr>\n",
       "      <th>0</th>\n",
       "      <td>Mazda RX4</td>\n",
       "      <td>21.0</td>\n",
       "      <td>6</td>\n",
       "      <td>160.0</td>\n",
       "      <td>110</td>\n",
       "      <td>3.90</td>\n",
       "      <td>2.620</td>\n",
       "      <td>16.46</td>\n",
       "      <td>0</td>\n",
       "      <td>1</td>\n",
       "      <td>4</td>\n",
       "      <td>4</td>\n",
       "    </tr>\n",
       "    <tr>\n",
       "      <th>1</th>\n",
       "      <td>Mazda RX4 Wag</td>\n",
       "      <td>21.0</td>\n",
       "      <td>6</td>\n",
       "      <td>160.0</td>\n",
       "      <td>110</td>\n",
       "      <td>3.90</td>\n",
       "      <td>2.875</td>\n",
       "      <td>17.02</td>\n",
       "      <td>0</td>\n",
       "      <td>1</td>\n",
       "      <td>4</td>\n",
       "      <td>4</td>\n",
       "    </tr>\n",
       "    <tr>\n",
       "      <th>2</th>\n",
       "      <td>Datsun 710</td>\n",
       "      <td>22.8</td>\n",
       "      <td>4</td>\n",
       "      <td>108.0</td>\n",
       "      <td>93</td>\n",
       "      <td>3.85</td>\n",
       "      <td>2.320</td>\n",
       "      <td>18.61</td>\n",
       "      <td>1</td>\n",
       "      <td>1</td>\n",
       "      <td>4</td>\n",
       "      <td>1</td>\n",
       "    </tr>\n",
       "    <tr>\n",
       "      <th>3</th>\n",
       "      <td>Hornet 4 Drive</td>\n",
       "      <td>21.4</td>\n",
       "      <td>6</td>\n",
       "      <td>258.0</td>\n",
       "      <td>110</td>\n",
       "      <td>3.08</td>\n",
       "      <td>3.215</td>\n",
       "      <td>19.44</td>\n",
       "      <td>1</td>\n",
       "      <td>0</td>\n",
       "      <td>3</td>\n",
       "      <td>1</td>\n",
       "    </tr>\n",
       "    <tr>\n",
       "      <th>4</th>\n",
       "      <td>Hornet Sportabout</td>\n",
       "      <td>18.7</td>\n",
       "      <td>8</td>\n",
       "      <td>360.0</td>\n",
       "      <td>175</td>\n",
       "      <td>3.15</td>\n",
       "      <td>3.440</td>\n",
       "      <td>17.02</td>\n",
       "      <td>0</td>\n",
       "      <td>0</td>\n",
       "      <td>3</td>\n",
       "      <td>2</td>\n",
       "    </tr>\n",
       "  </tbody>\n",
       "</table>\n",
       "</div>"
      ],
      "text/plain": [
       "                 car   mpg  cyl   disp   hp  drat     wt   qsec  vs  am  gear  \\\n",
       "0          Mazda RX4  21.0    6  160.0  110  3.90  2.620  16.46   0   1     4   \n",
       "1      Mazda RX4 Wag  21.0    6  160.0  110  3.90  2.875  17.02   0   1     4   \n",
       "2         Datsun 710  22.8    4  108.0   93  3.85  2.320  18.61   1   1     4   \n",
       "3     Hornet 4 Drive  21.4    6  258.0  110  3.08  3.215  19.44   1   0     3   \n",
       "4  Hornet Sportabout  18.7    8  360.0  175  3.15  3.440  17.02   0   0     3   \n",
       "\n",
       "   carb  \n",
       "0     4  \n",
       "1     4  \n",
       "2     1  \n",
       "3     1  \n",
       "4     2  "
      ]
     },
     "execution_count": 9,
     "metadata": {},
     "output_type": "execute_result"
    }
   ],
   "source": [
    "data_all.head()"
   ]
  },
  {
   "cell_type": "code",
   "execution_count": 10,
   "metadata": {},
   "outputs": [
    {
     "name": "stdout",
     "output_type": "stream",
     "text": [
      "<class 'pandas.core.frame.DataFrame'>\n",
      "RangeIndex: 32 entries, 0 to 31\n",
      "Data columns (total 12 columns):\n",
      " #   Column  Non-Null Count  Dtype  \n",
      "---  ------  --------------  -----  \n",
      " 0   car     32 non-null     object \n",
      " 1   mpg     32 non-null     float64\n",
      " 2   cyl     32 non-null     int64  \n",
      " 3   disp    32 non-null     float64\n",
      " 4   hp      32 non-null     int64  \n",
      " 5   drat    32 non-null     float64\n",
      " 6   wt      32 non-null     float64\n",
      " 7   qsec    32 non-null     float64\n",
      " 8   vs      32 non-null     int64  \n",
      " 9   am      32 non-null     int64  \n",
      " 10  gear    32 non-null     int64  \n",
      " 11  carb    32 non-null     int64  \n",
      "dtypes: float64(5), int64(6), object(1)\n",
      "memory usage: 2.9+ KB\n"
     ]
    }
   ],
   "source": [
    "data_all.info() #data_all.columns"
   ]
  },
  {
   "cell_type": "markdown",
   "metadata": {},
   "source": [
    ">The \"car\" column is text; everything else is numerical.\n",
    "\n",
    "> No null values"
   ]
  },
  {
   "cell_type": "code",
   "execution_count": 11,
   "metadata": {},
   "outputs": [
    {
     "data": {
      "text/plain": [
       "car     0\n",
       "mpg     0\n",
       "cyl     0\n",
       "disp    0\n",
       "hp      0\n",
       "drat    0\n",
       "wt      0\n",
       "qsec    0\n",
       "vs      0\n",
       "am      0\n",
       "gear    0\n",
       "carb    0\n",
       "dtype: int64"
      ]
     },
     "execution_count": 11,
     "metadata": {},
     "output_type": "execute_result"
    }
   ],
   "source": [
    "data_all.isna().sum()"
   ]
  },
  {
   "cell_type": "markdown",
   "metadata": {},
   "source": [
    "> No missing value"
   ]
  },
  {
   "cell_type": "code",
   "execution_count": 12,
   "metadata": {},
   "outputs": [
    {
     "data": {
      "text/plain": [
       "Merc 240D              1\n",
       "Merc 230               1\n",
       "Ferrari Dino           1\n",
       "Fiat 128               1\n",
       "Cadillac Fleetwood     1\n",
       "Merc 450SE             1\n",
       "Maserati Bora          1\n",
       "Toyota Corona          1\n",
       "AMC Javelin            1\n",
       "Merc 280C              1\n",
       "Lincoln Continental    1\n",
       "Merc 450SLC            1\n",
       "Mazda RX4              1\n",
       "Lotus Europa           1\n",
       "Merc 450SL             1\n",
       "Hornet 4 Drive         1\n",
       "Duster 360             1\n",
       "Ford Pantera L         1\n",
       "Pontiac Firebird       1\n",
       "Toyota Corolla         1\n",
       "Mazda RX4 Wag          1\n",
       "Porsche 914-2          1\n",
       "Volvo 142E             1\n",
       "Hornet Sportabout      1\n",
       "Valiant                1\n",
       "Datsun 710             1\n",
       "Chrysler Imperial      1\n",
       "Honda Civic            1\n",
       "Fiat X1-9              1\n",
       "Camaro Z28             1\n",
       "Merc 280               1\n",
       "Dodge Challenger       1\n",
       "Name: car, dtype: int64"
      ]
     },
     "execution_count": 12,
     "metadata": {},
     "output_type": "execute_result"
    }
   ],
   "source": [
    "data_all['car'].value_counts()"
   ]
  },
  {
   "cell_type": "markdown",
   "metadata": {},
   "source": [
    "> The data in the \"car\" column does not carry any significant information since it is following unity distribution. Hence this data can be discarded."
   ]
  },
  {
   "cell_type": "code",
   "execution_count": 13,
   "metadata": {},
   "outputs": [
    {
     "data": {
      "text/html": [
       "<div>\n",
       "<style scoped>\n",
       "    .dataframe tbody tr th:only-of-type {\n",
       "        vertical-align: middle;\n",
       "    }\n",
       "\n",
       "    .dataframe tbody tr th {\n",
       "        vertical-align: top;\n",
       "    }\n",
       "\n",
       "    .dataframe thead th {\n",
       "        text-align: right;\n",
       "    }\n",
       "</style>\n",
       "<table border=\"1\" class=\"dataframe\">\n",
       "  <thead>\n",
       "    <tr style=\"text-align: right;\">\n",
       "      <th></th>\n",
       "      <th>mpg</th>\n",
       "      <th>cyl</th>\n",
       "      <th>disp</th>\n",
       "      <th>hp</th>\n",
       "      <th>drat</th>\n",
       "      <th>wt</th>\n",
       "      <th>qsec</th>\n",
       "      <th>vs</th>\n",
       "      <th>am</th>\n",
       "      <th>gear</th>\n",
       "      <th>carb</th>\n",
       "    </tr>\n",
       "  </thead>\n",
       "  <tbody>\n",
       "    <tr>\n",
       "      <th>count</th>\n",
       "      <td>32.000000</td>\n",
       "      <td>32.000000</td>\n",
       "      <td>32.000000</td>\n",
       "      <td>32.000000</td>\n",
       "      <td>32.000000</td>\n",
       "      <td>32.000000</td>\n",
       "      <td>32.000000</td>\n",
       "      <td>32.000000</td>\n",
       "      <td>32.000000</td>\n",
       "      <td>32.000000</td>\n",
       "      <td>32.0000</td>\n",
       "    </tr>\n",
       "    <tr>\n",
       "      <th>mean</th>\n",
       "      <td>20.090625</td>\n",
       "      <td>6.187500</td>\n",
       "      <td>230.721875</td>\n",
       "      <td>146.687500</td>\n",
       "      <td>3.596563</td>\n",
       "      <td>3.217250</td>\n",
       "      <td>17.848750</td>\n",
       "      <td>0.437500</td>\n",
       "      <td>0.406250</td>\n",
       "      <td>3.687500</td>\n",
       "      <td>2.8125</td>\n",
       "    </tr>\n",
       "    <tr>\n",
       "      <th>std</th>\n",
       "      <td>6.026948</td>\n",
       "      <td>1.785922</td>\n",
       "      <td>123.938694</td>\n",
       "      <td>68.562868</td>\n",
       "      <td>0.534679</td>\n",
       "      <td>0.978457</td>\n",
       "      <td>1.786943</td>\n",
       "      <td>0.504016</td>\n",
       "      <td>0.498991</td>\n",
       "      <td>0.737804</td>\n",
       "      <td>1.6152</td>\n",
       "    </tr>\n",
       "    <tr>\n",
       "      <th>min</th>\n",
       "      <td>10.400000</td>\n",
       "      <td>4.000000</td>\n",
       "      <td>71.100000</td>\n",
       "      <td>52.000000</td>\n",
       "      <td>2.760000</td>\n",
       "      <td>1.513000</td>\n",
       "      <td>14.500000</td>\n",
       "      <td>0.000000</td>\n",
       "      <td>0.000000</td>\n",
       "      <td>3.000000</td>\n",
       "      <td>1.0000</td>\n",
       "    </tr>\n",
       "    <tr>\n",
       "      <th>25%</th>\n",
       "      <td>15.425000</td>\n",
       "      <td>4.000000</td>\n",
       "      <td>120.825000</td>\n",
       "      <td>96.500000</td>\n",
       "      <td>3.080000</td>\n",
       "      <td>2.581250</td>\n",
       "      <td>16.892500</td>\n",
       "      <td>0.000000</td>\n",
       "      <td>0.000000</td>\n",
       "      <td>3.000000</td>\n",
       "      <td>2.0000</td>\n",
       "    </tr>\n",
       "    <tr>\n",
       "      <th>50%</th>\n",
       "      <td>19.200000</td>\n",
       "      <td>6.000000</td>\n",
       "      <td>196.300000</td>\n",
       "      <td>123.000000</td>\n",
       "      <td>3.695000</td>\n",
       "      <td>3.325000</td>\n",
       "      <td>17.710000</td>\n",
       "      <td>0.000000</td>\n",
       "      <td>0.000000</td>\n",
       "      <td>4.000000</td>\n",
       "      <td>2.0000</td>\n",
       "    </tr>\n",
       "    <tr>\n",
       "      <th>75%</th>\n",
       "      <td>22.800000</td>\n",
       "      <td>8.000000</td>\n",
       "      <td>326.000000</td>\n",
       "      <td>180.000000</td>\n",
       "      <td>3.920000</td>\n",
       "      <td>3.610000</td>\n",
       "      <td>18.900000</td>\n",
       "      <td>1.000000</td>\n",
       "      <td>1.000000</td>\n",
       "      <td>4.000000</td>\n",
       "      <td>4.0000</td>\n",
       "    </tr>\n",
       "    <tr>\n",
       "      <th>max</th>\n",
       "      <td>33.900000</td>\n",
       "      <td>8.000000</td>\n",
       "      <td>472.000000</td>\n",
       "      <td>335.000000</td>\n",
       "      <td>4.930000</td>\n",
       "      <td>5.424000</td>\n",
       "      <td>22.900000</td>\n",
       "      <td>1.000000</td>\n",
       "      <td>1.000000</td>\n",
       "      <td>5.000000</td>\n",
       "      <td>8.0000</td>\n",
       "    </tr>\n",
       "  </tbody>\n",
       "</table>\n",
       "</div>"
      ],
      "text/plain": [
       "             mpg        cyl        disp          hp       drat         wt  \\\n",
       "count  32.000000  32.000000   32.000000   32.000000  32.000000  32.000000   \n",
       "mean   20.090625   6.187500  230.721875  146.687500   3.596563   3.217250   \n",
       "std     6.026948   1.785922  123.938694   68.562868   0.534679   0.978457   \n",
       "min    10.400000   4.000000   71.100000   52.000000   2.760000   1.513000   \n",
       "25%    15.425000   4.000000  120.825000   96.500000   3.080000   2.581250   \n",
       "50%    19.200000   6.000000  196.300000  123.000000   3.695000   3.325000   \n",
       "75%    22.800000   8.000000  326.000000  180.000000   3.920000   3.610000   \n",
       "max    33.900000   8.000000  472.000000  335.000000   4.930000   5.424000   \n",
       "\n",
       "            qsec         vs         am       gear     carb  \n",
       "count  32.000000  32.000000  32.000000  32.000000  32.0000  \n",
       "mean   17.848750   0.437500   0.406250   3.687500   2.8125  \n",
       "std     1.786943   0.504016   0.498991   0.737804   1.6152  \n",
       "min    14.500000   0.000000   0.000000   3.000000   1.0000  \n",
       "25%    16.892500   0.000000   0.000000   3.000000   2.0000  \n",
       "50%    17.710000   0.000000   0.000000   4.000000   2.0000  \n",
       "75%    18.900000   1.000000   1.000000   4.000000   4.0000  \n",
       "max    22.900000   1.000000   1.000000   5.000000   8.0000  "
      ]
     },
     "execution_count": 13,
     "metadata": {},
     "output_type": "execute_result"
    }
   ],
   "source": [
    "data_all.describe()"
   ]
  },
  {
   "cell_type": "markdown",
   "metadata": {},
   "source": [
    "> Since count of entries for all columns are 32, no data is missing"
   ]
  },
  {
   "cell_type": "code",
   "execution_count": 14,
   "metadata": {},
   "outputs": [
    {
     "data": {
      "image/png": "[encoded data removed]",
      "text/plain": [
       "<Figure size 1440x1080 with 12 Axes>"
      ]
     },
     "metadata": {
      "needs_background": "light"
     },
     "output_type": "display_data"
    }
   ],
   "source": [
    "data_all.hist(bins=50, figsize=(20,15))\n",
    "plt.show()"
   ]
  },
  {
   "cell_type": "markdown",
   "metadata": {},
   "source": [
    "> The histograms are not skewed. The scales of variation of attribute values are not largely different. Therefore, feature transformation and scaling are skipped in this activity to adopt simplified approach."
   ]
  },
  {
   "cell_type": "markdown",
   "metadata": {},
   "source": [
    "> **Some Observations**:\n",
    "- Less than 25% cars have mpg higher than 22.8.\n",
    "- The dataset carries more information about manual cars compared to automatic cars (“am” column)\n",
    "- Most of the cars have upto 4 carburators (“carb” column)\n",
    "- We have more data for 8-cylinder cars compared to others (“cyl” column)\n",
    "- at least 75% of the cars have 3 or 4 gears\n",
    "- Cars with higher hp has lower mpg\n",
    "- Cars with 8 cylinders have higher horsepower\n"
   ]
  },
  {
   "cell_type": "markdown",
   "metadata": {},
   "source": [
    "# 3. Create Test Set"
   ]
  },
  {
   "cell_type": "markdown",
   "metadata": {},
   "source": [
    "> It is very important not to consider the test set data while selecting features and algorithms to avoid the “data snooping bias”. If we find any interesting pattern from the whole dataset and use that information to select features or algorithms, the model might work well with test set data, but will most likely to fail to generalise well for any new input. For that reason, I separated the test set data (test_set variable) at the very beginning and used it only for final model validation."
   ]
  },
  {
   "cell_type": "code",
   "execution_count": 15,
   "metadata": {},
   "outputs": [],
   "source": [
    "train_set, test_set = train_test_split(data_all, test_size=0.2, random_state=10)"
   ]
  },
  {
   "cell_type": "markdown",
   "metadata": {},
   "source": [
    "> Random sampling is generally used when the dataset is large enough. Still for this activity, random sampling is adopted for the sake of simplicity while splitting data . \n",
    "\n",
    ">However, stratified sampling, based on most significant attribute, might be a better choice when the sample size is small."
   ]
  },
  {
   "cell_type": "markdown",
   "metadata": {},
   "source": [
    "# 4. Data Insight for Training Set"
   ]
  },
  {
   "cell_type": "code",
   "execution_count": 16,
   "metadata": {},
   "outputs": [
    {
     "data": {
      "text/plain": [
       "<seaborn.axisgrid.PairGrid at 0x5a6a598>"
      ]
     },
     "execution_count": 16,
     "metadata": {},
     "output_type": "execute_result"
    },
    {
     "data": {
      "text/plain": [
       "<Figure size 1440x720 with 0 Axes>"
      ]
     },
     "metadata": {},
     "output_type": "display_data"
    },
    {
     "data": {
      "image/png": "[encoded data removed]",
      "text/plain": [
       "<Figure size 1980x1980 with 132 Axes>"
      ]
     },
     "metadata": {
      "needs_background": "light"
     },
     "output_type": "display_data"
    }
   ],
   "source": [
    "plt.figure(figsize=(20,10))\n",
    "sns.pairplot(train_set)"
   ]
  },
  {
   "cell_type": "markdown",
   "metadata": {},
   "source": [
    "> From the scatter plot, it seems mpg is strongly correlated with cyl, disp, and wt. The relations of mpg with hp and drat are also evident. If we include all these features in our model training, we might get better result.\n",
    "\n",
    "> However, for this exercise, since at most 3 features can be considered, I need to identify 3 features which will influence the model prediction most."
   ]
  },
  {
   "cell_type": "markdown",
   "metadata": {},
   "source": [
    "## 4.1 Data Preparation"
   ]
  },
  {
   "cell_type": "code",
   "execution_count": 17,
   "metadata": {},
   "outputs": [],
   "source": [
    "data = train_set.copy()"
   ]
  },
  {
   "cell_type": "markdown",
   "metadata": {},
   "source": [
    "## 4.2 Feature Engineering: Experiment with Feature Combination"
   ]
  },
  {
   "cell_type": "code",
   "execution_count": 18,
   "metadata": {},
   "outputs": [],
   "source": [
    "data[\"hp_per_disp\"] = data[\"hp\"]/data[\"disp\"]\n",
    "data[\"wt_per_disp\"] = data[\"wt\"]/data[\"disp\"]\n",
    "data[\"qsec_per_drat\"] = data[\"qsec\"]/data[\"drat\"]"
   ]
  },
  {
   "cell_type": "code",
   "execution_count": 19,
   "metadata": {},
   "outputs": [],
   "source": [
    "# Prepare Data for feature selection\n",
    "X = data.drop([\"mpg\",\"car\"], axis=1)\n",
    "y = data['mpg'].copy()\n",
    "X_train, X_val, y_train, y_val = train_test_split(X,y,random_state=10)"
   ]
  },
  {
   "cell_type": "markdown",
   "metadata": {},
   "source": [
    "## 4.3 Feature Selection"
   ]
  },
  {
   "cell_type": "markdown",
   "metadata": {},
   "source": [
    "### Correlation Method"
   ]
  },
  {
   "cell_type": "code",
   "execution_count": 20,
   "metadata": {},
   "outputs": [
    {
     "data": {
      "text/html": [
       "<div>\n",
       "<style scoped>\n",
       "    .dataframe tbody tr th:only-of-type {\n",
       "        vertical-align: middle;\n",
       "    }\n",
       "\n",
       "    .dataframe tbody tr th {\n",
       "        vertical-align: top;\n",
       "    }\n",
       "\n",
       "    .dataframe thead th {\n",
       "        text-align: right;\n",
       "    }\n",
       "</style>\n",
       "<table border=\"1\" class=\"dataframe\">\n",
       "  <thead>\n",
       "    <tr style=\"text-align: right;\">\n",
       "      <th></th>\n",
       "      <th>mpg</th>\n",
       "      <th>cyl</th>\n",
       "      <th>disp</th>\n",
       "      <th>hp</th>\n",
       "      <th>drat</th>\n",
       "      <th>wt</th>\n",
       "      <th>qsec</th>\n",
       "      <th>vs</th>\n",
       "      <th>am</th>\n",
       "      <th>gear</th>\n",
       "      <th>carb</th>\n",
       "      <th>hp_per_disp</th>\n",
       "      <th>wt_per_disp</th>\n",
       "      <th>qsec_per_drat</th>\n",
       "    </tr>\n",
       "  </thead>\n",
       "  <tbody>\n",
       "    <tr>\n",
       "      <th>mpg</th>\n",
       "      <td>1.000000</td>\n",
       "      <td>-0.874597</td>\n",
       "      <td>-0.857883</td>\n",
       "      <td>-0.801091</td>\n",
       "      <td>0.711052</td>\n",
       "      <td>-0.881102</td>\n",
       "      <td>0.438871</td>\n",
       "      <td>0.697300</td>\n",
       "      <td>0.647926</td>\n",
       "      <td>0.477327</td>\n",
       "      <td>-0.620871</td>\n",
       "      <td>0.475515</td>\n",
       "      <td>0.773365</td>\n",
       "      <td>-0.386584</td>\n",
       "    </tr>\n",
       "    <tr>\n",
       "      <th>cyl</th>\n",
       "      <td>-0.874597</td>\n",
       "      <td>1.000000</td>\n",
       "      <td>0.907314</td>\n",
       "      <td>0.841226</td>\n",
       "      <td>-0.786368</td>\n",
       "      <td>0.799668</td>\n",
       "      <td>-0.569591</td>\n",
       "      <td>-0.799242</td>\n",
       "      <td>-0.629595</td>\n",
       "      <td>-0.558819</td>\n",
       "      <td>0.524219</td>\n",
       "      <td>-0.503983</td>\n",
       "      <td>-0.882372</td>\n",
       "      <td>0.378227</td>\n",
       "    </tr>\n",
       "    <tr>\n",
       "      <th>disp</th>\n",
       "      <td>-0.857883</td>\n",
       "      <td>0.907314</td>\n",
       "      <td>1.000000</td>\n",
       "      <td>0.798652</td>\n",
       "      <td>-0.779935</td>\n",
       "      <td>0.892519</td>\n",
       "      <td>-0.409573</td>\n",
       "      <td>-0.723288</td>\n",
       "      <td>-0.664693</td>\n",
       "      <td>-0.610670</td>\n",
       "      <td>0.383912</td>\n",
       "      <td>-0.626312</td>\n",
       "      <td>-0.871693</td>\n",
       "      <td>0.492199</td>\n",
       "    </tr>\n",
       "    <tr>\n",
       "      <th>hp</th>\n",
       "      <td>-0.801091</td>\n",
       "      <td>0.841226</td>\n",
       "      <td>0.798652</td>\n",
       "      <td>1.000000</td>\n",
       "      <td>-0.586227</td>\n",
       "      <td>0.674359</td>\n",
       "      <td>-0.679741</td>\n",
       "      <td>-0.691209</td>\n",
       "      <td>-0.353511</td>\n",
       "      <td>-0.182020</td>\n",
       "      <td>0.737982</td>\n",
       "      <td>-0.104204</td>\n",
       "      <td>-0.806353</td>\n",
       "      <td>0.099232</td>\n",
       "    </tr>\n",
       "    <tr>\n",
       "      <th>drat</th>\n",
       "      <td>0.711052</td>\n",
       "      <td>-0.786368</td>\n",
       "      <td>-0.779935</td>\n",
       "      <td>-0.586227</td>\n",
       "      <td>1.000000</td>\n",
       "      <td>-0.776514</td>\n",
       "      <td>0.216238</td>\n",
       "      <td>0.609307</td>\n",
       "      <td>0.707982</td>\n",
       "      <td>0.663902</td>\n",
       "      <td>-0.269763</td>\n",
       "      <td>0.447270</td>\n",
       "      <td>0.669236</td>\n",
       "      <td>-0.776002</td>\n",
       "    </tr>\n",
       "    <tr>\n",
       "      <th>wt</th>\n",
       "      <td>-0.881102</td>\n",
       "      <td>0.799668</td>\n",
       "      <td>0.892519</td>\n",
       "      <td>0.674359</td>\n",
       "      <td>-0.776514</td>\n",
       "      <td>1.000000</td>\n",
       "      <td>-0.156901</td>\n",
       "      <td>-0.572873</td>\n",
       "      <td>-0.748107</td>\n",
       "      <td>-0.637644</td>\n",
       "      <td>0.436198</td>\n",
       "      <td>-0.616126</td>\n",
       "      <td>-0.634455</td>\n",
       "      <td>0.637246</td>\n",
       "    </tr>\n",
       "    <tr>\n",
       "      <th>qsec</th>\n",
       "      <td>0.438871</td>\n",
       "      <td>-0.569591</td>\n",
       "      <td>-0.409573</td>\n",
       "      <td>-0.679741</td>\n",
       "      <td>0.216238</td>\n",
       "      <td>-0.156901</td>\n",
       "      <td>1.000000</td>\n",
       "      <td>0.697052</td>\n",
       "      <td>-0.144575</td>\n",
       "      <td>-0.153167</td>\n",
       "      <td>-0.606819</td>\n",
       "      <td>-0.160080</td>\n",
       "      <td>0.669084</td>\n",
       "      <td>0.433148</td>\n",
       "    </tr>\n",
       "    <tr>\n",
       "      <th>vs</th>\n",
       "      <td>0.697300</td>\n",
       "      <td>-0.799242</td>\n",
       "      <td>-0.723288</td>\n",
       "      <td>-0.691209</td>\n",
       "      <td>0.609307</td>\n",
       "      <td>-0.572873</td>\n",
       "      <td>0.697052</td>\n",
       "      <td>1.000000</td>\n",
       "      <td>0.280224</td>\n",
       "      <td>0.311805</td>\n",
       "      <td>-0.494144</td>\n",
       "      <td>0.374702</td>\n",
       "      <td>0.816838</td>\n",
       "      <td>-0.143576</td>\n",
       "    </tr>\n",
       "    <tr>\n",
       "      <th>am</th>\n",
       "      <td>0.647926</td>\n",
       "      <td>-0.629595</td>\n",
       "      <td>-0.664693</td>\n",
       "      <td>-0.353511</td>\n",
       "      <td>0.707982</td>\n",
       "      <td>-0.748107</td>\n",
       "      <td>-0.144575</td>\n",
       "      <td>0.280224</td>\n",
       "      <td>1.000000</td>\n",
       "      <td>0.791727</td>\n",
       "      <td>-0.046269</td>\n",
       "      <td>0.693687</td>\n",
       "      <td>0.493255</td>\n",
       "      <td>-0.752073</td>\n",
       "    </tr>\n",
       "    <tr>\n",
       "      <th>gear</th>\n",
       "      <td>0.477327</td>\n",
       "      <td>-0.558819</td>\n",
       "      <td>-0.610670</td>\n",
       "      <td>-0.182020</td>\n",
       "      <td>0.663902</td>\n",
       "      <td>-0.637644</td>\n",
       "      <td>-0.153167</td>\n",
       "      <td>0.311805</td>\n",
       "      <td>0.791727</td>\n",
       "      <td>1.000000</td>\n",
       "      <td>0.194741</td>\n",
       "      <td>0.800981</td>\n",
       "      <td>0.389818</td>\n",
       "      <td>-0.736896</td>\n",
       "    </tr>\n",
       "    <tr>\n",
       "      <th>carb</th>\n",
       "      <td>-0.620871</td>\n",
       "      <td>0.524219</td>\n",
       "      <td>0.383912</td>\n",
       "      <td>0.737982</td>\n",
       "      <td>-0.269763</td>\n",
       "      <td>0.436198</td>\n",
       "      <td>-0.606819</td>\n",
       "      <td>-0.494144</td>\n",
       "      <td>-0.046269</td>\n",
       "      <td>0.194741</td>\n",
       "      <td>1.000000</td>\n",
       "      <td>0.224056</td>\n",
       "      <td>-0.430748</td>\n",
       "      <td>-0.166388</td>\n",
       "    </tr>\n",
       "    <tr>\n",
       "      <th>hp_per_disp</th>\n",
       "      <td>0.475515</td>\n",
       "      <td>-0.503983</td>\n",
       "      <td>-0.626312</td>\n",
       "      <td>-0.104204</td>\n",
       "      <td>0.447270</td>\n",
       "      <td>-0.616126</td>\n",
       "      <td>-0.160080</td>\n",
       "      <td>0.374702</td>\n",
       "      <td>0.693687</td>\n",
       "      <td>0.800981</td>\n",
       "      <td>0.224056</td>\n",
       "      <td>1.000000</td>\n",
       "      <td>0.442420</td>\n",
       "      <td>-0.580886</td>\n",
       "    </tr>\n",
       "    <tr>\n",
       "      <th>wt_per_disp</th>\n",
       "      <td>0.773365</td>\n",
       "      <td>-0.882372</td>\n",
       "      <td>-0.871693</td>\n",
       "      <td>-0.806353</td>\n",
       "      <td>0.669236</td>\n",
       "      <td>-0.634455</td>\n",
       "      <td>0.669084</td>\n",
       "      <td>0.816838</td>\n",
       "      <td>0.493255</td>\n",
       "      <td>0.389818</td>\n",
       "      <td>-0.430748</td>\n",
       "      <td>0.442420</td>\n",
       "      <td>1.000000</td>\n",
       "      <td>-0.221294</td>\n",
       "    </tr>\n",
       "    <tr>\n",
       "      <th>qsec_per_drat</th>\n",
       "      <td>-0.386584</td>\n",
       "      <td>0.378227</td>\n",
       "      <td>0.492199</td>\n",
       "      <td>0.099232</td>\n",
       "      <td>-0.776002</td>\n",
       "      <td>0.637246</td>\n",
       "      <td>0.433148</td>\n",
       "      <td>-0.143576</td>\n",
       "      <td>-0.752073</td>\n",
       "      <td>-0.736896</td>\n",
       "      <td>-0.166388</td>\n",
       "      <td>-0.580886</td>\n",
       "      <td>-0.221294</td>\n",
       "      <td>1.000000</td>\n",
       "    </tr>\n",
       "  </tbody>\n",
       "</table>\n",
       "</div>"
      ],
      "text/plain": [
       "                    mpg       cyl      disp        hp      drat        wt  \\\n",
       "mpg            1.000000 -0.874597 -0.857883 -0.801091  0.711052 -0.881102   \n",
       "cyl           -0.874597  1.000000  0.907314  0.841226 -0.786368  0.799668   \n",
       "disp          -0.857883  0.907314  1.000000  0.798652 -0.779935  0.892519   \n",
       "hp            -0.801091  0.841226  0.798652  1.000000 -0.586227  0.674359   \n",
       "drat           0.711052 -0.786368 -0.779935 -0.586227  1.000000 -0.776514   \n",
       "wt            -0.881102  0.799668  0.892519  0.674359 -0.776514  1.000000   \n",
       "qsec           0.438871 -0.569591 -0.409573 -0.679741  0.216238 -0.156901   \n",
       "vs             0.697300 -0.799242 -0.723288 -0.691209  0.609307 -0.572873   \n",
       "am             0.647926 -0.629595 -0.664693 -0.353511  0.707982 -0.748107   \n",
       "gear           0.477327 -0.558819 -0.610670 -0.182020  0.663902 -0.637644   \n",
       "carb          -0.620871  0.524219  0.383912  0.737982 -0.269763  0.436198   \n",
       "hp_per_disp    0.475515 -0.503983 -0.626312 -0.104204  0.447270 -0.616126   \n",
       "wt_per_disp    0.773365 -0.882372 -0.871693 -0.806353  0.669236 -0.634455   \n",
       "qsec_per_drat -0.386584  0.378227  0.492199  0.099232 -0.776002  0.637246   \n",
       "\n",
       "                   qsec        vs        am      gear      carb  hp_per_disp  \\\n",
       "mpg            0.438871  0.697300  0.647926  0.477327 -0.620871     0.475515   \n",
       "cyl           -0.569591 -0.799242 -0.629595 -0.558819  0.524219    -0.503983   \n",
       "disp          -0.409573 -0.723288 -0.664693 -0.610670  0.383912    -0.626312   \n",
       "hp            -0.679741 -0.691209 -0.353511 -0.182020  0.737982    -0.104204   \n",
       "drat           0.216238  0.609307  0.707982  0.663902 -0.269763     0.447270   \n",
       "wt            -0.156901 -0.572873 -0.748107 -0.637644  0.436198    -0.616126   \n",
       "qsec           1.000000  0.697052 -0.144575 -0.153167 -0.606819    -0.160080   \n",
       "vs             0.697052  1.000000  0.280224  0.311805 -0.494144     0.374702   \n",
       "am            -0.144575  0.280224  1.000000  0.791727 -0.046269     0.693687   \n",
       "gear          -0.153167  0.311805  0.791727  1.000000  0.194741     0.800981   \n",
       "carb          -0.606819 -0.494144 -0.046269  0.194741  1.000000     0.224056   \n",
       "hp_per_disp   -0.160080  0.374702  0.693687  0.800981  0.224056     1.000000   \n",
       "wt_per_disp    0.669084  0.816838  0.493255  0.389818 -0.430748     0.442420   \n",
       "qsec_per_drat  0.433148 -0.143576 -0.752073 -0.736896 -0.166388    -0.580886   \n",
       "\n",
       "               wt_per_disp  qsec_per_drat  \n",
       "mpg               0.773365      -0.386584  \n",
       "cyl              -0.882372       0.378227  \n",
       "disp             -0.871693       0.492199  \n",
       "hp               -0.806353       0.099232  \n",
       "drat              0.669236      -0.776002  \n",
       "wt               -0.634455       0.637246  \n",
       "qsec              0.669084       0.433148  \n",
       "vs                0.816838      -0.143576  \n",
       "am                0.493255      -0.752073  \n",
       "gear              0.389818      -0.736896  \n",
       "carb             -0.430748      -0.166388  \n",
       "hp_per_disp       0.442420      -0.580886  \n",
       "wt_per_disp       1.000000      -0.221294  \n",
       "qsec_per_drat    -0.221294       1.000000  "
      ]
     },
     "execution_count": 20,
     "metadata": {},
     "output_type": "execute_result"
    }
   ],
   "source": [
    "corr_matrix = data.corr()\n",
    "corr_matrix"
   ]
  },
  {
   "cell_type": "code",
   "execution_count": 21,
   "metadata": {},
   "outputs": [
    {
     "data": {
      "text/plain": [
       "<AxesSubplot:>"
      ]
     },
     "execution_count": 21,
     "metadata": {},
     "output_type": "execute_result"
    },
    {
     "data": {
      "image/png": "[encoded data removed]",
      "text/plain": [
       "<Figure size 720x576 with 2 Axes>"
      ]
     },
     "metadata": {
      "needs_background": "light"
     },
     "output_type": "display_data"
    }
   ],
   "source": [
    "plt.figure(figsize=(10,8))\n",
    "sns.heatmap(corr_matrix, square=True, center=0)"
   ]
  },
  {
   "cell_type": "code",
   "execution_count": 22,
   "metadata": {},
   "outputs": [
    {
     "data": {
      "text/plain": [
       "mpg              1.000000\n",
       "wt               0.881102\n",
       "cyl              0.874597\n",
       "disp             0.857883\n",
       "hp               0.801091\n",
       "wt_per_disp      0.773365\n",
       "drat             0.711052\n",
       "vs               0.697300\n",
       "am               0.647926\n",
       "carb             0.620871\n",
       "gear             0.477327\n",
       "hp_per_disp      0.475515\n",
       "qsec             0.438871\n",
       "qsec_per_drat    0.386584\n",
       "Name: mpg, dtype: float64"
      ]
     },
     "execution_count": 22,
     "metadata": {},
     "output_type": "execute_result"
    }
   ],
   "source": [
    "corr_matrix_abs = abs(corr_matrix)\n",
    "corr_matrix_abs['mpg'].sort_values(ascending=False)"
   ]
  },
  {
   "cell_type": "markdown",
   "metadata": {},
   "source": [
    "> The \"mpg\" has very strong linear correlation with all the feature attributes. The most significant three features are \"wt\", \"disp\", and \"cyl\", all of which have negative correlation with \"mpg\".\n",
    "\n",
    "> However, Pearson correlation coefficient is not a good indicator of non-linear relationships"
   ]
  },
  {
   "cell_type": "code",
   "execution_count": 23,
   "metadata": {},
   "outputs": [
    {
     "name": "stdout",
     "output_type": "stream",
     "text": [
      "MSE - Mean:  3.3871448398262642  - Standard deviation:  0.2418780678134014\n"
     ]
    },
    {
     "data": {
      "text/plain": [
       "array([3.24531742, 3.72763458, 3.18848252])"
      ]
     },
     "execution_count": 23,
     "metadata": {},
     "output_type": "execute_result"
    }
   ],
   "source": [
    "features_corr = [\"wt\", \"disp\", \"cyl\"] # selected based on correlation\n",
    "X_corr = X[features_corr]\n",
    "base_model = Lasso(alpha=0.1)\n",
    "get_mse_score(base_model, X_corr, y, 3) # 3-fold cross-validation"
   ]
  },
  {
   "cell_type": "code",
   "execution_count": 24,
   "metadata": {},
   "outputs": [
    {
     "name": "stdout",
     "output_type": "stream",
     "text": [
      "R^2 for training data:  0.8528958642069467\n",
      "R^2 for validation data:  0.7689942631431508\n"
     ]
    }
   ],
   "source": [
    "get_R2_score(X_train[features_corr], X_val[features_corr], y_train, y_val)"
   ]
  },
  {
   "cell_type": "markdown",
   "metadata": {},
   "source": [
    "### Select K Best Features"
   ]
  },
  {
   "cell_type": "code",
   "execution_count": 25,
   "metadata": {},
   "outputs": [],
   "source": [
    "selector = SelectKBest(mutual_info_regression, k=3)\n",
    "X_new = selector.fit_transform(X_train, y_train)\n",
    "# X_new"
   ]
  },
  {
   "cell_type": "code",
   "execution_count": 26,
   "metadata": {},
   "outputs": [
    {
     "data": {
      "text/html": [
       "<div>\n",
       "<style scoped>\n",
       "    .dataframe tbody tr th:only-of-type {\n",
       "        vertical-align: middle;\n",
       "    }\n",
       "\n",
       "    .dataframe tbody tr th {\n",
       "        vertical-align: top;\n",
       "    }\n",
       "\n",
       "    .dataframe thead th {\n",
       "        text-align: right;\n",
       "    }\n",
       "</style>\n",
       "<table border=\"1\" class=\"dataframe\">\n",
       "  <thead>\n",
       "    <tr style=\"text-align: right;\">\n",
       "      <th></th>\n",
       "      <th>cyl</th>\n",
       "      <th>disp</th>\n",
       "      <th>hp</th>\n",
       "      <th>drat</th>\n",
       "      <th>wt</th>\n",
       "      <th>qsec</th>\n",
       "      <th>vs</th>\n",
       "      <th>am</th>\n",
       "      <th>gear</th>\n",
       "      <th>carb</th>\n",
       "      <th>hp_per_disp</th>\n",
       "      <th>wt_per_disp</th>\n",
       "      <th>qsec_per_drat</th>\n",
       "    </tr>\n",
       "  </thead>\n",
       "  <tbody>\n",
       "    <tr>\n",
       "      <th>11</th>\n",
       "      <td>8.0</td>\n",
       "      <td>275.8</td>\n",
       "      <td>180.0</td>\n",
       "      <td>0.0</td>\n",
       "      <td>0.0</td>\n",
       "      <td>0.0</td>\n",
       "      <td>0.0</td>\n",
       "      <td>0.0</td>\n",
       "      <td>0.0</td>\n",
       "      <td>0.0</td>\n",
       "      <td>0.0</td>\n",
       "      <td>0.0</td>\n",
       "      <td>0.0</td>\n",
       "    </tr>\n",
       "    <tr>\n",
       "      <th>22</th>\n",
       "      <td>8.0</td>\n",
       "      <td>304.0</td>\n",
       "      <td>150.0</td>\n",
       "      <td>0.0</td>\n",
       "      <td>0.0</td>\n",
       "      <td>0.0</td>\n",
       "      <td>0.0</td>\n",
       "      <td>0.0</td>\n",
       "      <td>0.0</td>\n",
       "      <td>0.0</td>\n",
       "      <td>0.0</td>\n",
       "      <td>0.0</td>\n",
       "      <td>0.0</td>\n",
       "    </tr>\n",
       "    <tr>\n",
       "      <th>4</th>\n",
       "      <td>8.0</td>\n",
       "      <td>360.0</td>\n",
       "      <td>175.0</td>\n",
       "      <td>0.0</td>\n",
       "      <td>0.0</td>\n",
       "      <td>0.0</td>\n",
       "      <td>0.0</td>\n",
       "      <td>0.0</td>\n",
       "      <td>0.0</td>\n",
       "      <td>0.0</td>\n",
       "      <td>0.0</td>\n",
       "      <td>0.0</td>\n",
       "      <td>0.0</td>\n",
       "    </tr>\n",
       "    <tr>\n",
       "      <th>19</th>\n",
       "      <td>4.0</td>\n",
       "      <td>71.1</td>\n",
       "      <td>65.0</td>\n",
       "      <td>0.0</td>\n",
       "      <td>0.0</td>\n",
       "      <td>0.0</td>\n",
       "      <td>0.0</td>\n",
       "      <td>0.0</td>\n",
       "      <td>0.0</td>\n",
       "      <td>0.0</td>\n",
       "      <td>0.0</td>\n",
       "      <td>0.0</td>\n",
       "      <td>0.0</td>\n",
       "    </tr>\n",
       "    <tr>\n",
       "      <th>29</th>\n",
       "      <td>6.0</td>\n",
       "      <td>145.0</td>\n",
       "      <td>175.0</td>\n",
       "      <td>0.0</td>\n",
       "      <td>0.0</td>\n",
       "      <td>0.0</td>\n",
       "      <td>0.0</td>\n",
       "      <td>0.0</td>\n",
       "      <td>0.0</td>\n",
       "      <td>0.0</td>\n",
       "      <td>0.0</td>\n",
       "      <td>0.0</td>\n",
       "      <td>0.0</td>\n",
       "    </tr>\n",
       "  </tbody>\n",
       "</table>\n",
       "</div>"
      ],
      "text/plain": [
       "    cyl   disp     hp  drat   wt  qsec   vs   am  gear  carb  hp_per_disp  \\\n",
       "11  8.0  275.8  180.0   0.0  0.0   0.0  0.0  0.0   0.0   0.0          0.0   \n",
       "22  8.0  304.0  150.0   0.0  0.0   0.0  0.0  0.0   0.0   0.0          0.0   \n",
       "4   8.0  360.0  175.0   0.0  0.0   0.0  0.0  0.0   0.0   0.0          0.0   \n",
       "19  4.0   71.1   65.0   0.0  0.0   0.0  0.0  0.0   0.0   0.0          0.0   \n",
       "29  6.0  145.0  175.0   0.0  0.0   0.0  0.0  0.0   0.0   0.0          0.0   \n",
       "\n",
       "    wt_per_disp  qsec_per_drat  \n",
       "11          0.0            0.0  \n",
       "22          0.0            0.0  \n",
       "4           0.0            0.0  \n",
       "19          0.0            0.0  \n",
       "29          0.0            0.0  "
      ]
     },
     "execution_count": 26,
     "metadata": {},
     "output_type": "execute_result"
    }
   ],
   "source": [
    "selected_features = pd.DataFrame(selector.inverse_transform(X_new),index=X_train.index,columns=X_train.columns)\n",
    "selected_features.head()"
   ]
  },
  {
   "cell_type": "markdown",
   "metadata": {},
   "source": [
    ">Mutual Information based regression selects 3 important features: \"cyl\", \"disp\", \"wt\" - same as Pearson Correlation based technique"
   ]
  },
  {
   "cell_type": "code",
   "execution_count": 27,
   "metadata": {},
   "outputs": [
    {
     "name": "stdout",
     "output_type": "stream",
     "text": [
      "MSE - Mean:  3.3868545103441634  - Standard deviation:  0.241338160573448\n"
     ]
    },
    {
     "data": {
      "text/plain": [
       "array([3.24531423, 3.72658733, 3.18866197])"
      ]
     },
     "execution_count": 27,
     "metadata": {},
     "output_type": "execute_result"
    }
   ],
   "source": [
    "best3_features = [\"cyl\", \"disp\", \"wt\"]\n",
    "X_best3 = X[best3_features]\n",
    "base_model = Lasso(alpha=0.1)\n",
    "get_mse_score(base_model, X_best3, y, 3)"
   ]
  },
  {
   "cell_type": "code",
   "execution_count": 28,
   "metadata": {},
   "outputs": [
    {
     "name": "stdout",
     "output_type": "stream",
     "text": [
      "R^2 for training data:  0.8528958642069469\n",
      "R^2 for validation data:  0.7689942631431506\n"
     ]
    }
   ],
   "source": [
    "get_R2_score(X_train[best3_features], X_val[best3_features], y_train, y_val)"
   ]
  },
  {
   "cell_type": "markdown",
   "metadata": {},
   "source": [
    "### Feature Importance Method"
   ]
  },
  {
   "cell_type": "markdown",
   "metadata": {},
   "source": [
    ">Permutation importance randomly shuffles a single column. Model accuracy should suffer if it heavily relies on the shuffled column"
   ]
  },
  {
   "cell_type": "code",
   "execution_count": 29,
   "metadata": {},
   "outputs": [
    {
     "data": {
      "text/plain": [
       "RandomForestRegressor(n_estimators=50, random_state=10)"
      ]
     },
     "execution_count": 29,
     "metadata": {},
     "output_type": "execute_result"
    }
   ],
   "source": [
    "model = RandomForestRegressor(n_estimators=50, random_state=10)\n",
    "model.fit(X_train, y_train)"
   ]
  },
  {
   "cell_type": "code",
   "execution_count": 30,
   "metadata": {},
   "outputs": [
    {
     "data": {
      "text/html": [
       "\n",
       "    <style>\n",
       "    table.eli5-weights tr:hover {\n",
       "        filter: brightness(85%);\n",
       "    }\n",
       "</style>\n",
       "\n",
       "\n",
       "\n",
       "    \n",
       "\n",
       "    \n",
       "\n",
       "    \n",
       "\n",
       "    \n",
       "\n",
       "    \n",
       "\n",
       "    \n",
       "\n",
       "\n",
       "    \n",
       "\n",
       "    \n",
       "\n",
       "    \n",
       "\n",
       "    \n",
       "\n",
       "    \n",
       "\n",
       "    \n",
       "\n",
       "\n",
       "    \n",
       "\n",
       "    \n",
       "\n",
       "    \n",
       "\n",
       "    \n",
       "\n",
       "    \n",
       "        <table class=\"eli5-weights eli5-feature-importances\" style=\"border-collapse: collapse; border: none; margin-top: 0em; table-layout: auto;\">\n",
       "    <thead>\n",
       "    <tr style=\"border: none;\">\n",
       "        <th style=\"padding: 0 1em 0 0.5em; text-align: right; border: none;\">Weight</th>\n",
       "        <th style=\"padding: 0 0.5em 0 0.5em; text-align: left; border: none;\">Feature</th>\n",
       "    </tr>\n",
       "    </thead>\n",
       "    <tbody>\n",
       "    \n",
       "        <tr style=\"background-color: hsl(120, 100.00%, 80.00%); border: none;\">\n",
       "            <td style=\"padding: 0 1em 0 0.5em; text-align: right; border: none;\">\n",
       "                0.1697\n",
       "                \n",
       "                    &plusmn; 0.2390\n",
       "                \n",
       "            </td>\n",
       "            <td style=\"padding: 0 0.5em 0 0.5em; text-align: left; border: none;\">\n",
       "                hp\n",
       "            </td>\n",
       "        </tr>\n",
       "    \n",
       "        <tr style=\"background-color: hsl(120, 100.00%, 82.50%); border: none;\">\n",
       "            <td style=\"padding: 0 1em 0 0.5em; text-align: right; border: none;\">\n",
       "                0.1402\n",
       "                \n",
       "                    &plusmn; 0.0910\n",
       "                \n",
       "            </td>\n",
       "            <td style=\"padding: 0 0.5em 0 0.5em; text-align: left; border: none;\">\n",
       "                disp\n",
       "            </td>\n",
       "        </tr>\n",
       "    \n",
       "        <tr style=\"background-color: hsl(120, 100.00%, 85.35%); border: none;\">\n",
       "            <td style=\"padding: 0 1em 0 0.5em; text-align: right; border: none;\">\n",
       "                0.1087\n",
       "                \n",
       "                    &plusmn; 0.0486\n",
       "                \n",
       "            </td>\n",
       "            <td style=\"padding: 0 0.5em 0 0.5em; text-align: left; border: none;\">\n",
       "                wt\n",
       "            </td>\n",
       "        </tr>\n",
       "    \n",
       "        <tr style=\"background-color: hsl(120, 100.00%, 93.41%); border: none;\">\n",
       "            <td style=\"padding: 0 1em 0 0.5em; text-align: right; border: none;\">\n",
       "                0.0347\n",
       "                \n",
       "                    &plusmn; 0.0630\n",
       "                \n",
       "            </td>\n",
       "            <td style=\"padding: 0 0.5em 0 0.5em; text-align: left; border: none;\">\n",
       "                cyl\n",
       "            </td>\n",
       "        </tr>\n",
       "    \n",
       "        <tr style=\"background-color: hsl(120, 100.00%, 94.35%); border: none;\">\n",
       "            <td style=\"padding: 0 1em 0 0.5em; text-align: right; border: none;\">\n",
       "                0.0279\n",
       "                \n",
       "                    &plusmn; 0.0127\n",
       "                \n",
       "            </td>\n",
       "            <td style=\"padding: 0 0.5em 0 0.5em; text-align: left; border: none;\">\n",
       "                qsec\n",
       "            </td>\n",
       "        </tr>\n",
       "    \n",
       "        <tr style=\"background-color: hsl(120, 100.00%, 97.22%); border: none;\">\n",
       "            <td style=\"padding: 0 1em 0 0.5em; text-align: right; border: none;\">\n",
       "                0.0101\n",
       "                \n",
       "                    &plusmn; 0.0281\n",
       "                \n",
       "            </td>\n",
       "            <td style=\"padding: 0 0.5em 0 0.5em; text-align: left; border: none;\">\n",
       "                vs\n",
       "            </td>\n",
       "        </tr>\n",
       "    \n",
       "        <tr style=\"background-color: hsl(120, 100.00%, 97.33%); border: none;\">\n",
       "            <td style=\"padding: 0 1em 0 0.5em; text-align: right; border: none;\">\n",
       "                0.0096\n",
       "                \n",
       "                    &plusmn; 0.0323\n",
       "                \n",
       "            </td>\n",
       "            <td style=\"padding: 0 0.5em 0 0.5em; text-align: left; border: none;\">\n",
       "                wt_per_disp\n",
       "            </td>\n",
       "        </tr>\n",
       "    \n",
       "        <tr style=\"background-color: hsl(120, 100.00%, 98.26%); border: none;\">\n",
       "            <td style=\"padding: 0 1em 0 0.5em; text-align: right; border: none;\">\n",
       "                0.0052\n",
       "                \n",
       "                    &plusmn; 0.0043\n",
       "                \n",
       "            </td>\n",
       "            <td style=\"padding: 0 0.5em 0 0.5em; text-align: left; border: none;\">\n",
       "                carb\n",
       "            </td>\n",
       "        </tr>\n",
       "    \n",
       "        <tr style=\"background-color: hsl(120, 100.00%, 99.10%); border: none;\">\n",
       "            <td style=\"padding: 0 1em 0 0.5em; text-align: right; border: none;\">\n",
       "                0.0020\n",
       "                \n",
       "                    &plusmn; 0.0048\n",
       "                \n",
       "            </td>\n",
       "            <td style=\"padding: 0 0.5em 0 0.5em; text-align: left; border: none;\">\n",
       "                gear\n",
       "            </td>\n",
       "        </tr>\n",
       "    \n",
       "        <tr style=\"background-color: hsl(0, 100.00%, 99.88%); border: none;\">\n",
       "            <td style=\"padding: 0 1em 0 0.5em; text-align: right; border: none;\">\n",
       "                -0.0001\n",
       "                \n",
       "                    &plusmn; 0.0147\n",
       "                \n",
       "            </td>\n",
       "            <td style=\"padding: 0 0.5em 0 0.5em; text-align: left; border: none;\">\n",
       "                qsec_per_drat\n",
       "            </td>\n",
       "        </tr>\n",
       "    \n",
       "        <tr style=\"background-color: hsl(0, 100.00%, 99.47%); border: none;\">\n",
       "            <td style=\"padding: 0 1em 0 0.5em; text-align: right; border: none;\">\n",
       "                -0.0009\n",
       "                \n",
       "                    &plusmn; 0.0049\n",
       "                \n",
       "            </td>\n",
       "            <td style=\"padding: 0 0.5em 0 0.5em; text-align: left; border: none;\">\n",
       "                am\n",
       "            </td>\n",
       "        </tr>\n",
       "    \n",
       "        <tr style=\"background-color: hsl(0, 100.00%, 98.69%); border: none;\">\n",
       "            <td style=\"padding: 0 1em 0 0.5em; text-align: right; border: none;\">\n",
       "                -0.0035\n",
       "                \n",
       "                    &plusmn; 0.0211\n",
       "                \n",
       "            </td>\n",
       "            <td style=\"padding: 0 0.5em 0 0.5em; text-align: left; border: none;\">\n",
       "                hp_per_disp\n",
       "            </td>\n",
       "        </tr>\n",
       "    \n",
       "        <tr style=\"background-color: hsl(0, 100.00%, 96.85%); border: none;\">\n",
       "            <td style=\"padding: 0 1em 0 0.5em; text-align: right; border: none;\">\n",
       "                -0.0121\n",
       "                \n",
       "                    &plusmn; 0.0544\n",
       "                \n",
       "            </td>\n",
       "            <td style=\"padding: 0 0.5em 0 0.5em; text-align: left; border: none;\">\n",
       "                drat\n",
       "            </td>\n",
       "        </tr>\n",
       "    \n",
       "    \n",
       "    </tbody>\n",
       "</table>\n",
       "    \n",
       "\n",
       "    \n",
       "\n",
       "\n",
       "    \n",
       "\n",
       "    \n",
       "\n",
       "    \n",
       "\n",
       "    \n",
       "\n",
       "    \n",
       "\n",
       "    \n",
       "\n",
       "\n",
       "\n"
      ],
      "text/plain": [
       "<IPython.core.display.HTML object>"
      ]
     },
     "execution_count": 30,
     "metadata": {},
     "output_type": "execute_result"
    }
   ],
   "source": [
    "perm_imp = PermutationImportance(model, random_state=10).fit(X_val, y_val)\n",
    "eli5.show_weights(perm_imp, feature_names=X_val.columns.to_list())"
   ]
  },
  {
   "cell_type": "markdown",
   "metadata": {},
   "source": [
    ">By randomly shuffling each column one-at-a-time, the top 3 significant features are \"wt\", \"disp\", and \"hp\""
   ]
  },
  {
   "cell_type": "code",
   "execution_count": 31,
   "metadata": {},
   "outputs": [
    {
     "name": "stdout",
     "output_type": "stream",
     "text": [
      "MSE - Mean:  3.153693796666724  - Standard deviation:  0.35629415796107816\n"
     ]
    },
    {
     "data": {
      "text/plain": [
       "array([2.65208442, 3.36315464, 3.44584233])"
      ]
     },
     "execution_count": 31,
     "metadata": {},
     "output_type": "execute_result"
    }
   ],
   "source": [
    "perm_features = [\"wt\", \"disp\", \"hp\"]\n",
    "X_perm = X[perm_features]\n",
    "base_model = Lasso(alpha=0.1)\n",
    "get_mse_score(base_model, X_perm, y, 3) "
   ]
  },
  {
   "cell_type": "code",
   "execution_count": 32,
   "metadata": {},
   "outputs": [
    {
     "name": "stdout",
     "output_type": "stream",
     "text": [
      "R^2 for training data:  0.8419057790670417\n",
      "R^2 for validation data:  0.7501038050928752\n"
     ]
    }
   ],
   "source": [
    "get_R2_score(X_train[perm_features], X_val[perm_features], y_train, y_val)"
   ]
  },
  {
   "cell_type": "markdown",
   "metadata": {},
   "source": [
    "> "
   ]
  },
  {
   "cell_type": "code",
   "execution_count": 33,
   "metadata": {},
   "outputs": [
    {
     "data": {
      "text/plain": [
       "<seaborn.axisgrid.PairGrid at 0x1d5125b0>"
      ]
     },
     "execution_count": 33,
     "metadata": {},
     "output_type": "execute_result"
    },
    {
     "data": {
      "image/png": "[encoded data removed]",
      "text/plain": [
       "<Figure size 720x720 with 20 Axes>"
      ]
     },
     "metadata": {
      "needs_background": "light"
     },
     "output_type": "display_data"
    }
   ],
   "source": [
    "scatter_features = [\"mpg\",\"wt\", \"disp\", \"cyl\"]\n",
    "# scatter_matrix(data[scatter_features], figsize=(12,10))\n",
    "\n",
    "#data.plot(kind=\"scatter\", x=\"wt\", y=\"mpg\")\n",
    "\n",
    "graph_pair = sns.PairGrid(data[scatter_features])\n",
    "graph_pair.map_diag(sns.distplot)\n",
    "graph_pair.map_lower(sns.regplot)"
   ]
  },
  {
   "cell_type": "markdown",
   "metadata": {},
   "source": [
    ">For simplicity, I'll be using the correlation based principle and select features based on that technique. \n",
    "\n",
    ">Feature scaling and transformation are also avoided since the range of data for each feature is not significantly disperse.\n",
    "\n",
    ">Data imputation is not required since we have no missing data.\n",
    "\n",
    ">Since we discarted the insignificant \"car\" column, we don't need to do categorical encoding."
   ]
  },
  {
   "cell_type": "markdown",
   "metadata": {},
   "source": [
    "# 5. Model Selection"
   ]
  },
  {
   "cell_type": "markdown",
   "metadata": {},
   "source": [
    "> For the demonstration purpose, I have tested with three different models to identify the base algorithm"
   ]
  },
  {
   "cell_type": "code",
   "execution_count": 34,
   "metadata": {},
   "outputs": [
    {
     "name": "stdout",
     "output_type": "stream",
     "text": [
      "\n",
      "DecisionTreeRegressor\n",
      "MSE - Mean:  2.8191505437671642  - Standard deviation:  0.9327326581487868\n",
      "MSE for training data:  0.0\n",
      "MSE for validation data:  15.40285714285714\n",
      "\n",
      "LinearRegression\n",
      "MSE - Mean:  2.667083889076941  - Standard deviation:  0.6260302236272794\n",
      "MSE for training data:  5.093276390534758\n",
      "MSE for validation data:  8.267648178078703\n",
      "\n",
      "RandomForestRegressor\n",
      "MSE - Mean:  2.264357406763936  - Standard deviation:  0.43467854588824817\n",
      "MSE for training data:  1.2080134999999743\n",
      "MSE for validation data:  5.279911142857102\n"
     ]
    }
   ],
   "source": [
    "# Define model. Specifing a number for random state to ensure same results on each run\n",
    "model_list = []\n",
    "model_list.append(('DecisionTreeRegressor', DecisionTreeRegressor(random_state=10)))\n",
    "model_list.append(('LinearRegression', LinearRegression()))\n",
    "model_list.append(('RandomForestRegressor', RandomForestRegressor(random_state=10)))\n",
    "\n",
    "results = []\n",
    "names = []\n",
    "for name, model in model_list: #(model_dtr, model_linr, model_ranf, model_svr):\n",
    "    print()\n",
    "    print(name) # , model.get_params()\n",
    "    score = get_mse_score(model, X_corr, y, 5) # 5-fold cross-validation\n",
    "    get_mse_score_tv(model, X_train[features_corr], X_val[features_corr], y_train, y_val)\n",
    "    results.append(score)\n",
    "    names.append(name)"
   ]
  },
  {
   "cell_type": "code",
   "execution_count": 35,
   "metadata": {},
   "outputs": [
    {
     "data": {
      "image/png": "[encoded data removed]",
      "text/plain": [
       "<Figure size 432x288 with 1 Axes>"
      ]
     },
     "metadata": {
      "needs_background": "light"
     },
     "output_type": "display_data"
    }
   ],
   "source": [
    "fig = plt.figure()\n",
    "fig.suptitle('Performance Comparison')\n",
    "ax = fig.add_subplot(111)\n",
    "plt.boxplot(results)\n",
    "ax.set_xticklabels(names)\n",
    "plt.show()"
   ]
  },
  {
   "cell_type": "markdown",
   "metadata": {},
   "source": [
    "- Decision Tree: overfits the data\n",
    "    \n",
    "- Linear Regression: Unknown fit - possibly need to re-evaluate data splitting method, or adding more data and features\n",
    "\n",
    "- Random Forest: best performance"
   ]
  },
  {
   "cell_type": "markdown",
   "metadata": {},
   "source": [
    "# 6. Model Fine-Tuning"
   ]
  },
  {
   "cell_type": "code",
   "execution_count": 36,
   "metadata": {},
   "outputs": [
    {
     "name": "stdout",
     "output_type": "stream",
     "text": [
      "Best Parameter Set:  {'bootstrap': True, 'max_leaf_nodes': 8, 'n_estimators': 30}\n"
     ]
    }
   ],
   "source": [
    "rand_forest_reg = RandomForestRegressor(random_state=10)\n",
    "\n",
    "param_grid = [\n",
    "    {'n_estimators':[3, 5, 8, 10, 30, 50, 100], 'bootstrap': [True, False], 'max_leaf_nodes': [2, 4, 8, 16]}\n",
    "]\n",
    "\n",
    "grid_search = GridSearchCV(rand_forest_reg, param_grid, cv=5, scoring='neg_mean_squared_error')\n",
    "grid_search.fit(X_corr, y)\n",
    "print(\"Best Parameter Set: \", grid_search.best_params_)"
   ]
  },
  {
   "cell_type": "code",
   "execution_count": 37,
   "metadata": {},
   "outputs": [],
   "source": [
    "# cv_results = grid_search.cv_results_\n",
    "\n",
    "# for mean_score, params in zip(cv_results['mean_test_score'], cv_results['params']):\n",
    "#     print(np.sqrt(-mean_score), params)"
   ]
  },
  {
   "cell_type": "markdown",
   "metadata": {},
   "source": [
    "# 7. Evaluate on Test Set"
   ]
  },
  {
   "cell_type": "code",
   "execution_count": 38,
   "metadata": {},
   "outputs": [
    {
     "name": "stdout",
     "output_type": "stream",
     "text": [
      "MSE - Mean:  2.3830679299183504  - Standard deviation:  1.402021100882794\n",
      "MSE (without cross-validation):  2.602440641877806\n"
     ]
    }
   ],
   "source": [
    "final_model = grid_search.best_estimator_\n",
    "X_test = test_set.drop(\"mpg\", axis=1)\n",
    "y_test = test_set[\"mpg\"].copy()\n",
    "X_test_corr = X_test[features_corr]\n",
    "y_test_predict = final_model.predict(X_test_corr)\n",
    "\n",
    "get_mse_score(final_model, X_test_corr, y_test, 3) \n",
    "# since the size of test_data is small, 3-fold cross-validation is used\n",
    "\n",
    "final_mse = mean_squared_error(y_test, y_test_predict)\n",
    "final_rmse = np.sqrt(final_mse)\n",
    "print(\"MSE (without cross-validation): \", final_rmse)"
   ]
  },
  {
   "cell_type": "code",
   "execution_count": 39,
   "metadata": {},
   "outputs": [
    {
     "data": {
      "text/html": [
       "<div>\n",
       "<style scoped>\n",
       "    .dataframe tbody tr th:only-of-type {\n",
       "        vertical-align: middle;\n",
       "    }\n",
       "\n",
       "    .dataframe tbody tr th {\n",
       "        vertical-align: top;\n",
       "    }\n",
       "\n",
       "    .dataframe thead th {\n",
       "        text-align: right;\n",
       "    }\n",
       "</style>\n",
       "<table border=\"1\" class=\"dataframe\">\n",
       "  <thead>\n",
       "    <tr style=\"text-align: right;\">\n",
       "      <th></th>\n",
       "      <th>Importance</th>\n",
       "    </tr>\n",
       "  </thead>\n",
       "  <tbody>\n",
       "    <tr>\n",
       "      <th>disp</th>\n",
       "      <td>0.497423</td>\n",
       "    </tr>\n",
       "    <tr>\n",
       "      <th>wt</th>\n",
       "      <td>0.412746</td>\n",
       "    </tr>\n",
       "    <tr>\n",
       "      <th>cyl</th>\n",
       "      <td>0.089831</td>\n",
       "    </tr>\n",
       "  </tbody>\n",
       "</table>\n",
       "</div>"
      ],
      "text/plain": [
       "      Importance\n",
       "disp    0.497423\n",
       "wt      0.412746\n",
       "cyl     0.089831"
      ]
     },
     "execution_count": 39,
     "metadata": {},
     "output_type": "execute_result"
    }
   ],
   "source": [
    "feature_importance = pd.DataFrame(index=X_test_corr.columns, data=final_model.feature_importances_, columns=['Importance'])\n",
    "feature_importance.sort_values(by='Importance', ascending=False)"
   ]
  },
  {
   "cell_type": "code",
   "execution_count": 40,
   "metadata": {},
   "outputs": [
    {
     "data": {
      "text/plain": [
       "<AxesSubplot:>"
      ]
     },
     "execution_count": 40,
     "metadata": {},
     "output_type": "execute_result"
    },
    {
     "data": {
      "image/png": "[encoded data removed]",
      "text/plain": [
       "<Figure size 432x288 with 1 Axes>"
      ]
     },
     "metadata": {
      "needs_background": "light"
     },
     "output_type": "display_data"
    }
   ],
   "source": [
    "sns.barplot(x=feature_importance.index.to_list(), y=feature_importance.values.ravel())"
   ]
  }
 ],
 "metadata": {
  "kernelspec": {
   "display_name": "Python 3",
   "language": "python",
   "name": "python3"
  },
  "language_info": {
   "codemirror_mode": {
    "name": "ipython",
    "version": 3
   },
   "file_extension": ".py",
   "mimetype": "text/x-python",
   "name": "python",
   "nbconvert_exporter": "python",
   "pygments_lexer": "ipython3",
   "version": "3.8.2"
  }
 },
 "nbformat": 4,
 "nbformat_minor": 4
}
